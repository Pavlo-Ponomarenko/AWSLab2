{
 "cells": [
  {
   "cell_type": "code",
   "execution_count": 1,
   "id": "8684cefe",
   "metadata": {},
   "outputs": [],
   "source": [
    "import boto3\n",
    "import requests\n",
    "import matplotlib.pyplot as plt\n",
    "import json\n",
    "import csv"
   ]
  },
  {
   "cell_type": "code",
   "execution_count": 2,
   "id": "13cc2949",
   "metadata": {},
   "outputs": [],
   "source": [
    "usd_url = 'https://bank.gov.ua/NBU_Exchange/exchange_site?json&start=20210101&end=20211231&valcode=usd&sort=exchangedate'"
   ]
  },
  {
   "cell_type": "code",
   "execution_count": 3,
   "id": "7146cc04",
   "metadata": {},
   "outputs": [],
   "source": [
    "eur_url = 'https://bank.gov.ua/NBU_Exchange/exchange_site?json&start=20210101&end=20211231&valcode=eur&sort=exchangedate'"
   ]
  },
  {
   "cell_type": "code",
   "execution_count": 4,
   "id": "5e34531a",
   "metadata": {},
   "outputs": [],
   "source": [
    "headers = {'user-agent': 'Mozilla/5.0 (Macintosh; Intel Mac OS X 10_11_6) AppleWebKit/537.36 (KHTML, like Gecko) Chrome/56.0.2924.87 Safari/537.36'}"
   ]
  },
  {
   "cell_type": "code",
   "execution_count": 5,
   "id": "dd63b4cd",
   "metadata": {},
   "outputs": [],
   "source": [
    "usd_data = requests.get(usd_url, headers=headers).json()"
   ]
  },
  {
   "cell_type": "code",
   "execution_count": 6,
   "id": "2c6e3385",
   "metadata": {},
   "outputs": [],
   "source": [
    "eur_data = requests.get(eur_url, headers=headers).json()"
   ]
  },
  {
   "cell_type": "code",
   "execution_count": 7,
   "id": "747368f3",
   "metadata": {},
   "outputs": [],
   "source": [
    "usd_data_file = open(r'C:\\Users\\react\\Documents\\info\\usd_data.csv', 'w')"
   ]
  },
  {
   "cell_type": "code",
   "execution_count": 8,
   "id": "bc860412",
   "metadata": {},
   "outputs": [],
   "source": [
    "eur_data_file = open(r'C:\\Users\\react\\Documents\\info\\eur_data.csv', 'w')"
   ]
  },
  {
   "cell_type": "code",
   "execution_count": 9,
   "id": "0358bbcf",
   "metadata": {},
   "outputs": [],
   "source": [
    "usd_csv_writer = csv.writer(usd_data_file)"
   ]
  },
  {
   "cell_type": "code",
   "execution_count": 10,
   "id": "afae3e0a",
   "metadata": {},
   "outputs": [],
   "source": [
    "eur_csv_writer = csv.writer(eur_data_file)"
   ]
  },
  {
   "cell_type": "code",
   "execution_count": 11,
   "id": "588bd92f",
   "metadata": {},
   "outputs": [
    {
     "data": {
      "text/plain": [
       "73"
      ]
     },
     "execution_count": 11,
     "metadata": {},
     "output_type": "execute_result"
    }
   ],
   "source": [
    "usd_csv_writer.writerow(usd_data[0].keys())"
   ]
  },
  {
   "cell_type": "code",
   "execution_count": 12,
   "id": "c5de3274",
   "metadata": {},
   "outputs": [
    {
     "data": {
      "text/plain": [
       "73"
      ]
     },
     "execution_count": 12,
     "metadata": {},
     "output_type": "execute_result"
    }
   ],
   "source": [
    "eur_csv_writer.writerow(eur_data[0].keys())"
   ]
  },
  {
   "cell_type": "code",
   "execution_count": 13,
   "id": "6957f0a1",
   "metadata": {},
   "outputs": [],
   "source": [
    "for i in range(1, len(usd_data)):\n",
    "    usd_csv_writer.writerow(usd_data[i].values())"
   ]
  },
  {
   "cell_type": "code",
   "execution_count": 14,
   "id": "fb9138cf",
   "metadata": {},
   "outputs": [],
   "source": [
    "for i in range(1, len(eur_data)):\n",
    "    eur_csv_writer.writerow(eur_data[i].values())"
   ]
  },
  {
   "cell_type": "code",
   "execution_count": 15,
   "id": "f8baff1b",
   "metadata": {},
   "outputs": [],
   "source": [
    "usd_data_file.close()\n",
    "eur_data_file.close()"
   ]
  },
  {
   "cell_type": "code",
   "execution_count": 19,
   "id": "8a73afd5",
   "metadata": {},
   "outputs": [],
   "source": [
    "s3 = boto3.resource('s3')"
   ]
  },
  {
   "cell_type": "code",
   "execution_count": 20,
   "id": "7deefddc",
   "metadata": {},
   "outputs": [],
   "source": [
    "s3.meta.client.upload_file(r'C:\\Users\\react\\Documents\\info\\usd_data.csv', 'laboratory2', 'usd_data.csv')"
   ]
  },
  {
   "cell_type": "code",
   "execution_count": 21,
   "id": "a9401b24",
   "metadata": {},
   "outputs": [],
   "source": [
    "s3.meta.client.upload_file(r'C:\\Users\\react\\Documents\\info\\eur_data.csv', 'laboratory2', 'eur_data.csv')"
   ]
  },
  {
   "cell_type": "code",
   "execution_count": null,
   "id": "6df9da83",
   "metadata": {},
   "outputs": [],
   "source": []
  }
 ],
 "metadata": {
  "kernelspec": {
   "display_name": "Python 3 (ipykernel)",
   "language": "python",
   "name": "python3"
  },
  "language_info": {
   "codemirror_mode": {
    "name": "ipython",
    "version": 3
   },
   "file_extension": ".py",
   "mimetype": "text/x-python",
   "name": "python",
   "nbconvert_exporter": "python",
   "pygments_lexer": "ipython3",
   "version": "3.9.7"
  }
 },
 "nbformat": 4,
 "nbformat_minor": 5
}
